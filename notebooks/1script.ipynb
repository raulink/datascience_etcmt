{
 "cells": [
  {
   "cell_type": "markdown",
   "metadata": {},
   "source": [
    "# Script de migracion de datos\n",
    "\n",
    "Este programa está diseñado para procesar datos de una hoja de cálculo de Google Sheets, descargándolos, transformándolos y guardándolos en un archivo Excel. La clase principal, GoogleSheetProcessor, maneja todo el flujo de trabajo, desde la obtención de datos hasta su procesamiento y almacenamiento. A continuación se describe el funcionamiento detallado del programa.\n",
    "\n",
    "## Funcionalidades Principales\n",
    "1. Inicialización (__init__)\n",
    "La clase se inicializa con la URL de una hoja de cálculo de Google Sheets. Durante la inicialización, se extraen los identificadores del archivo y de la hoja específica, y se construye la URL para exportar la hoja en formato CSV.\n",
    "\n",
    "### Atributos:\n",
    "\n",
    "sheet_url: URL de la hoja de cálculo de Google Sheets.\n",
    "spreadsheet_id: ID único de la hoja de cálculo.\n",
    "sheet_id: ID único de la hoja dentro de la hoja de cálculo.\n",
    "csv_export_url: URL para exportar la hoja en formato CSV.\n",
    "\n",
    "### Diccionarios predefinidos:\n",
    "\n",
    "valores: Diccionario que asocia códigos con valores numéricos.\n",
    "regimen: Diccionario que asocia códigos con sus unidades de medida correspondientes.\n",
    "\n",
    "2. Extracción de Identificadores\n",
    "extract_spreadsheet_id(url): Extrae el ID de la hoja de cálculo desde la URL.\n",
    "extract_sheet_id(url): Extrae el ID de la hoja específica desde la URL.\n",
    "3. Construcción de la URL de Exportación\n",
    "construct_csv_export_url(): Construye la URL que permite descargar la hoja de cálculo en formato CSV.\n",
    "4. Descarga de la Hoja en CSV\n",
    "download_csv(output_filename='temp_sheet.csv'): Descarga la hoja de cálculo en formato CSV y la guarda con un nombre de archivo especificado (por defecto, temp_sheet.csv).\n",
    "5. Procesamiento de Datos\n",
    "process_data(filename=\"temp_sheet.csv\", valores=\"\", regimen=\"\"):\n",
    "Carga el archivo CSV y realiza una serie de transformaciones y filtrados en los datos, como la conversión de valores, la asignación de unidades, y la reestructuración del DataFrame.\n",
    "Comprueba que las claves de los diccionarios valores y regimen coinciden, lanzando un AssertionError si no es así.\n",
    "Filtra los datos para excluir planes y mantener solo las columnas relevantes.\n",
    "Realiza transformaciones en el DataFrame para preparar la información que se almacenará en Excel.\n",
    "Retorna los DataFrames df_plan, df_action, df_speciality y filtered_data.\n",
    "6. Guardar Resultados en Excel\n",
    "save_to_excel(output_path=\"Salida.xlsx\", filename=\"mix_plan.csv\", valores=\"\", regimen=\"\"):\n",
    "Llama al método process_data para obtener los DataFrames procesados.\n",
    "Guarda los DataFrames resultantes en un archivo Excel con hojas separadas para acciones, planes, especialidades y actividades filtradas.\n",
    "7. Funciones Auxiliares\n",
    "get_unique(df: pd.DataFrame, column: str): Genera un DataFrame con valores únicos de una columna específica, ajustando los índices.\n",
    "buscarIndice(df: pd.DataFrame, valor, columna='value'): Busca el índice de un valor específico en un DataFrame y lo retorna como un entero.\n",
    "Uso del Programa\n",
    "Inicializar la Clase:\n",
    "\n",
    "```\n",
    "processor = GoogleSheetProcessor(sheet_url=\"https://docs.google.com/spreadsheets/d/.../edit#gid=...\")\n",
    "```\n",
    "\n",
    "Descargar y Leer CSV:\n",
    "\n",
    "```\n",
    "processor.download_csv(\"datos.csv\")\n",
    "processor.read_csv(\"datos.csv\")\n",
    "```\n",
    "\n",
    "Procesar Datos:\n",
    "```\n",
    "df_plan, df_action, df_speciality, filtered_data = processor.process_data(filename=\"datos.csv\")\n",
    "```\n",
    "\n",
    "Guardar los Resultados en Excel:\n",
    "\n",
    "```\n",
    "processor.save_to_excel(output_path=\"Resultados.xlsx\")\n",
    "```\n",
    "\n",
    "Este programa es útil para automatizar la descarga y procesamiento de datos desde Google Sheets, permitiendo la preparación de datos en un formato listo para análisis o almacenamiento posterior."
   ]
  },
  {
   "cell_type": "code",
   "execution_count": 6,
   "metadata": {},
   "outputs": [],
   "source": [
    "import pandas as pd\n",
    "import requests\n",
    "\n",
    "class GoogleSheetProcessor:\n",
    "    def __init__(self, sheet_url:str):\n",
    "        self.sheet_url = sheet_url\n",
    "        self.spreadsheet_id = self.extract_spreadsheet_id(sheet_url)\n",
    "        self.sheet_id = self.extract_sheet_id(sheet_url)\n",
    "        self.csv_export_url = self.construct_csv_export_url()\n",
    "\n",
    "        # Diccionarios originales\n",
    "        self.valores = {\n",
    "            \"D\": 1, \"S\": 1, \"M\": 5, \"MC\": 1, \"2M\": 2, \"T\": 3, \"4M\": 4, \"SE\": 6,\n",
    "            \"8M\": 8, \"A\": 1, \"1.5A\": 18, \"2A\": 2, \"3A\": 3, \"4A\": 4, \"5A\": 5,\n",
    "            \"6A\": 6, \"8A\": 8, \"10A\": 10, \"1000\": 1000, \"6000\": 6000, \"22500\": 22500,\n",
    "            \"40000\": 40000, \"55000\": 55000\n",
    "        }\n",
    "\n",
    "        self.regimen = {\n",
    "            \"D\": 'dia', \"S\": 'semana', \"M\": 'semana', \"MC\": 'mes', \"2M\": 'mes', \"T\": 'mes',\n",
    "            \"4M\": 'mes', \"SE\": 'mes', \"8M\": 'mes', \"A\": 'Año', \"1.5A\": 'mes', \"2A\": 'Año',\n",
    "            \"3A\": 'Año', \"4A\": 'Año', \"5A\": 'Año', \"6A\": 'Año', \"8A\": 'Año', \"10A\": 'Año',\n",
    "            \"1000\": 'horas', \"6000\": 'horas', \"22500\": 'horas', \"40000\": 'horas', \"55000\": 'horas'\n",
    "        }\n",
    "\n",
    "    def extract_spreadsheet_id(self, url):\n",
    "        return url.split('/d/')[1].split('/')[0]\n",
    "\n",
    "    def extract_sheet_id(self, url):\n",
    "        return url.split('gid=')[1]\n",
    "\n",
    "    def construct_csv_export_url(self):\n",
    "        return f\"https://docs.google.com/spreadsheets/d/{self.spreadsheet_id}/export?format=csv&gid={self.sheet_id}\"\n",
    "\n",
    "    def download_csv(self, output_filename='temp_sheet.csv'):\n",
    "        # Descarga el archivo CSV y lo guarda temporalmente\n",
    "        response = requests.get(self.csv_export_url)\n",
    "        response.raise_for_status()  # Asegurarse de que la solicitud fue exitosa\n",
    "        with open(output_filename, 'wb') as f:\n",
    "            f.write(response.content)\n",
    "        return output_filename\n",
    "    def get_unique(self, df: pd.DataFrame, column: str):\n",
    "        \"\"\"\n",
    "        Obtiene un DataFrame con valores únicos de la columna 'Column', con índices ajustados.\n",
    "\n",
    "        Returns:\n",
    "        pd.DataFrame: Un DataFrame con valores únicos de la columna 'Column' y un índice ajustado.\n",
    "        \"\"\"\n",
    "        df[column] = df[column].str.strip()\n",
    "        df = df[df[column].notnull()]\n",
    "        df_unique = pd.DataFrame(df[column].unique(), columns=['value'])\n",
    "        df_unique.index = df_unique.index + 1\n",
    "        return df_unique\n",
    "    def buscarIndice(self, df:pd.DataFrame, valor,columna='value'):\n",
    "        return int (df[df[columna]==valor].index[0])\n",
    "\n",
    "\n",
    "    def read_csv(self, filename=\"temp_sheet.csv\"):\n",
    "        # Lee el archivo CSV usando pandas\n",
    "        self.df = pd.read_csv(filename)\n",
    "        self.df.columns = self.df.loc[2, :].to_list()  # la fila 2 como fila\n",
    "        self.df = self.df.loc[4:, :]   # Obtener desde la fila 4 en adelante\n",
    "        return self.df\n",
    "\n",
    "    def process_data(self,filename = \"temp_sheet.csv\",valores=\"\", regimen=\"\"):        \n",
    "        df = pd.DataFrame()\n",
    "        df = pd.read_csv(filename)\n",
    "\n",
    "        if valores == \"\":valores = self.valores\n",
    "        \n",
    "        if regimen == \"\":regimen = self.regimen\n",
    "        \n",
    "        if valores.keys() != regimen.keys():\n",
    "            raise AssertionError(f\"Las claves no coinciden: {valores.keys()} != {regimen.keys()}\")\n",
    "\n",
    "        #self.df = df.copy(deep=True)\n",
    "\n",
    "        # Realiza el procesamiento necesario\n",
    "        # Este es un lugar para incluir toda la lógica de procesamiento\n",
    "        \n",
    "        # Suponiendo que el procesamiento produce 'filtered_data' y otros DataFrames\n",
    "        df_plan = pd.DataFrame()  # Placeholder\n",
    "        df_action = pd.DataFrame()  # Placeholder\n",
    "        df_speciality = pd.DataFrame()  # Placeholder\n",
    "        filtered_data = pd.DataFrame()  # Placeholder        \n",
    "        print(valores)\n",
    "        ## convertir a booleano\n",
    "        df[list(valores.keys())] = df[valores.keys()].applymap(lambda x: True if x == 'TRUE' else False)\n",
    "        # Obtener la unidades\n",
    "        parametros = self.regimen\n",
    "        df['unidad'] = df.apply(lambda row: next((parametros[key] for key in parametros.keys() if key in row and row[key] == True), None), axis=1)\n",
    "        # Obtener los valores\n",
    "        parametros = self.valores\n",
    "        df['valor'] = df.apply(lambda row: next((parametros[key] for key in parametros.keys() if key in row and row[key] == True), None), axis=1)\n",
    "        # Filtrar las columnas necesarias solamente\n",
    "\n",
    "        # Quitar planes\n",
    "        df = df[df['Tipo']!= 'Plan']\n",
    "\n",
    "        # Mantener solo las columnas necesarias\n",
    "        columns = ['Plan','Accion','Trabajo','Actividad','Tipo','Parada','Relevancia','Especialidad','valor','unidad']\n",
    "        df = df[columns]\n",
    "        # Crear la nueva columna fk_activity que tendra relaciones con las actividades padre\n",
    "        df['fk_activity']= None\n",
    "        df['fkc_regime']= None\n",
    "\n",
    "        # renombrar los nombres de las columnas\n",
    "        nuevos_nombres = {\n",
    "            'Plan': 'fk_plan',\n",
    "            'Accion': 'fk_action',\n",
    "            'Actividad': 'name',\n",
    "            'Tipo': 'fkc_activity_type',\n",
    "            'Relevancia': 'fkc_priority',\n",
    "            'Especialidad': 'fk_specialty',\n",
    "            'valor': 'time_interval_value',\n",
    "            'unidad': 'fk_periodicity_unit',\n",
    "            'Parada': 'stoppage',\n",
    "        }\n",
    "        df.rename(columns=nuevos_nombres, inplace=True)\n",
    "                # Mantener las columnas del excel en el orden indicado\n",
    "        columnas_excel = ['fk_activity','fk_plan','fk_action','name','fkc_activity_type','fkc_priority','fk_specialty','fkc_regime','stoppage','time_interval_value','fk_periodicity_unit'] \n",
    "\n",
    "        df = df[columnas_excel]\n",
    "        df_plan = self.get_unique(df,\"fk_plan\")\n",
    "        df_action = self.get_unique(df,\"fk_action\")\n",
    "        df_speciality = self.get_unique(df,\"fk_specialty\")\n",
    "        #df_activity_type = self.get_unique(df,\"fkc_activity_type\")\n",
    "        #df_regime = self.get_unique(df,\"fkc_regime\")\n",
    "\n",
    "        # Filter the data\n",
    "        #df = df_raw.copy(deep=True)\n",
    "        filtered_data = df[(df['fkc_activity_type'] == 'Actividad') | (df['fkc_activity_type'] == 'Tarea')]\n",
    "\n",
    "        # Add fk_activity column\n",
    "        filtered_data['fk_activity'] = None\n",
    "\n",
    "        # Set fk_activity for Tareas based on their parent Actividad\n",
    "        parent_index = None\n",
    "        for i, row in filtered_data.iterrows():\n",
    "            if row['fkc_activity_type'] == 'Actividad':\n",
    "                parent_index = i\n",
    "            elif row['fkc_activity_type'] == 'Tarea':\n",
    "                filtered_data.at[i, 'fk_activity'] = parent_index\n",
    "        #filtered_data\n",
    "\n",
    "        filtered_data['fk_plan']= filtered_data['fk_plan'].apply(lambda x: self.buscarIndice(df_plan,x)) \n",
    "\n",
    "\n",
    "        return df_plan, df_action, df_speciality, filtered_data\n",
    "\n",
    "\n",
    "    def save_to_excel(self, output_path=\"Salida.xlsx\",filename=\"mix_plan.csv\",valores=\"\",regimen=\"\"):        \n",
    "        df_plan, df_action, df_speciality, filtered_data = self.process_data(filename=filename,valores=valores,regimen=regimen)  \n",
    "        with pd.ExcelWriter(output_path) as writer:\n",
    "            df_action.to_excel(writer, sheet_name='Acciones')\n",
    "            df_plan.to_excel(writer, sheet_name='Plan')\n",
    "            df_speciality.to_excel(writer, sheet_name='Especialidad')\n",
    "            filtered_data.to_excel(writer, sheet_name='Actividades')\n"
   ]
  },
  {
   "cell_type": "code",
   "execution_count": 7,
   "metadata": {},
   "outputs": [],
   "source": [
    "# Combinacion de dataframes\n",
    "\n",
    "\n",
    "\n",
    "gs1 = GoogleSheetProcessor(\"https://docs.google.com/spreadsheets/d/1oUHkuKpHtuhMirNW6SvAQ4A0ns5PZs71iZ_WFXZHNn8/edit?gid=1199302294\")\n",
    "archivo = \"pad.csv\"\n",
    "#gs.download_csv(archivo)\n",
    "df1 = gs1.read_csv(archivo)\n",
    "\n",
    "gs2 = GoogleSheetProcessor(\"https://docs.google.com/spreadsheets/d/1yOaSeqRBr1FW6tvFMi_Y-s4011cKBoyiWU5dTMlujrU/edit?gid=1199302294\")\n",
    "archivo = \"pbd.csv\"\n",
    "#gs.download_csv(archivo)\n",
    "df2 = gs2.read_csv(archivo)\n",
    "#df1,df2\n",
    "\n",
    "# df_plan, df_action, df_speciality, filtered_data = gs.process_data()\n",
    "#gs.save_to_excel(\"Salida.xlsx\")"
   ]
  },
  {
   "cell_type": "code",
   "execution_count": 8,
   "metadata": {},
   "outputs": [],
   "source": [
    "# Realizar el merge de ambos planes en un solo dataframe\n",
    "df_merged = pd.concat([df1,df2],ignore_index=True).reset_index(drop=True)\n",
    "df_merged.to_csv(\"mix_plan.csv\")\n"
   ]
  },
  {
   "cell_type": "code",
   "execution_count": 9,
   "metadata": {},
   "outputs": [],
   "source": [
    "#gs1.process_data(filename=\"mix_plan.csv\",valores=valores,regimen=regimen)\n",
    "# Diccionarios originales\n",
    "valores = {\n",
    "    \"D\": 1,\n",
    "    \"S\": 1,\n",
    "    \"2S\": 2,\n",
    "    \"M\": 5,\n",
    "    \"MC\": 1,\n",
    "    \"2M\": 2,\n",
    "    \"T\": 3,\n",
    "    \"SE\": 6,\n",
    "    \"8M\": 8,\n",
    "    \"A\": 1,\n",
    "    \"1.5A\": 18,\n",
    "    \"2A\": 2,\n",
    "    \"3A\": 3,\n",
    "    \"4A\": 4,\n",
    "    \"5A\": 5,\n",
    "    \"6A\": 6,\n",
    "    \"8A\": 8,\n",
    "    \"10A\": 10,\n",
    "    \"1000\": 1000,\n",
    "    \"1300\": 1300,\n",
    "    \"1800\": 1800,\n",
    "    \"6000\": 6000,\n",
    "    \"22500\": 6000,\n",
    "    \"40000\": 40000,\n",
    "    \"55000\": 55000,\n",
    "    \"55000C\": 55000\n",
    "}\n",
    "\n",
    "regimen = {\n",
    "    \"D\": 'dia',\n",
    "    \"S\": 'semana',\n",
    "    \"2S\": 'semana',\n",
    "    \"M\": 'semana',\n",
    "    \"MC\": 'mes',\n",
    "    \"2M\": 'mes',\n",
    "    \"T\": 'mes',\n",
    "    \"SE\": 'mes',\n",
    "    \"8M\": 'mes',\n",
    "    \"A\": 'Año',\n",
    "    \"1.5A\": 'mes',\n",
    "    \"2A\": 'Año',\n",
    "    \"3A\": 'Año',\n",
    "    \"4A\": 'Año',\n",
    "    \"5A\": 'Año',\n",
    "    \"6A\": 'Año',\n",
    "    \"8A\": 'Año',\n",
    "    \"10A\": 'Año',\n",
    "    \"1000\": 'horas',\n",
    "    \"1300\": 'horas',\n",
    "    \"1800\": 'horas',\n",
    "    \"6000\": 'horas',\n",
    "    \"22500\": 'horas',\n",
    "    \"40000\": 'horas',\n",
    "    \"55000\": 'horas',\n",
    "    \"55000C\": 'ciclos'\n",
    "}\n",
    "#df_merged.tail(5)"
   ]
  },
  {
   "cell_type": "code",
   "execution_count": 10,
   "metadata": {},
   "outputs": [
    {
     "data": {
      "application/vnd.jupyter.widget-view+json": {
       "model_id": "072d12182b404cc191bd3bc8c2cccafb",
       "version_major": 2,
       "version_minor": 0
      },
      "text/plain": [
       "Textarea(value='https://docs.google.com/spreadsheets/d/1oUHkuKpHtuhMirNW6SvAQ4A0ns5PZs71iZ_WFXZHNn8/edit?gid=1…"
      ]
     },
     "metadata": {},
     "output_type": "display_data"
    },
    {
     "data": {
      "application/vnd.jupyter.widget-view+json": {
       "model_id": "2dfaea18a8504c8db0ef40da25375139",
       "version_major": 2,
       "version_minor": 0
      },
      "text/plain": [
       "Textarea(value='https://docs.google.com/spreadsheets/d/1yOaSeqRBr1FW6tvFMi_Y-s4011cKBoyiWU5dTMlujrU/edit?gid=1…"
      ]
     },
     "metadata": {},
     "output_type": "display_data"
    },
    {
     "data": {
      "application/vnd.jupyter.widget-view+json": {
       "model_id": "6a6a7d06a3644afaade9f9a0833bfe0c",
       "version_major": 2,
       "version_minor": 0
      },
      "text/plain": [
       "Text(value='192.168.100.50', description='Host:', placeholder='Host')"
      ]
     },
     "metadata": {},
     "output_type": "display_data"
    },
    {
     "data": {
      "application/vnd.jupyter.widget-view+json": {
       "model_id": "72b5e9686d0e45a1b8d2452b7e0f8d7f",
       "version_major": 2,
       "version_minor": 0
      },
      "text/plain": [
       "Text(value='mantto', description='Usuario')"
      ]
     },
     "metadata": {},
     "output_type": "display_data"
    },
    {
     "data": {
      "application/vnd.jupyter.widget-view+json": {
       "model_id": "56e70412231a4234930c70c078e4799f",
       "version_major": 2,
       "version_minor": 0
      },
      "text/plain": [
       "Password(description='Password')"
      ]
     },
     "metadata": {},
     "output_type": "display_data"
    },
    {
     "data": {
      "application/vnd.jupyter.widget-view+json": {
       "model_id": "d994a25b06c94f7a96e3456328ec2570",
       "version_major": 2,
       "version_minor": 0
      },
      "text/plain": [
       "Accordion(children=(Text(value='Salida.xlsx', description='Nombre:'),), titles=('Archivo Salida',))"
      ]
     },
     "metadata": {},
     "output_type": "display_data"
    },
    {
     "data": {
      "application/vnd.jupyter.widget-view+json": {
       "model_id": "d88244a50d87488399f5ea54bb05b801",
       "version_major": 2,
       "version_minor": 0
      },
      "text/plain": [
       "Button(button_style='success', description='Generar Archivo Excel', layout=Layout(width='20%'), style=ButtonSt…"
      ]
     },
     "metadata": {},
     "output_type": "display_data"
    },
    {
     "data": {
      "application/vnd.jupyter.widget-view+json": {
       "model_id": "445e5e9a08f54df1a013812ef086c0ce",
       "version_major": 2,
       "version_minor": 0
      },
      "text/plain": [
       "Accordion(children=(Text(value='mantto', description='Usuario'), Password(description='Password'), Text(value=…"
      ]
     },
     "metadata": {},
     "output_type": "display_data"
    },
    {
     "data": {
      "application/vnd.jupyter.widget-view+json": {
       "model_id": "f81a54d98e1d466dafdb1fcc38785b43",
       "version_major": 2,
       "version_minor": 0
      },
      "text/plain": [
       "Button(button_style='danger', description='Cargar en Base de datos', layout=Layout(width='20%'), style=ButtonS…"
      ]
     },
     "metadata": {},
     "output_type": "display_data"
    },
    {
     "data": {
      "application/vnd.jupyter.widget-view+json": {
       "model_id": "3a3f5abc417a4b3bbb7b2c046d531d71",
       "version_major": 2,
       "version_minor": 0
      },
      "text/plain": [
       "Output()"
      ]
     },
     "metadata": {},
     "output_type": "display_data"
    },
    {
     "name": "stdout",
     "output_type": "stream",
     "text": [
      "{'D': 1, 'S': 1, '2S': 2, 'M': 5, 'MC': 1, '2M': 2, 'T': 3, 'SE': 6, '8M': 8, 'A': 1, '1.5A': 18, '2A': 2, '3A': 3, '4A': 4, '5A': 5, '6A': 6, '8A': 8, '10A': 10, '1000': 1000, '1300': 1300, '1800': 1800, '6000': 6000, '22500': 6000, '40000': 40000, '55000': 55000, '55000C': 55000}\n"
     ]
    }
   ],
   "source": [
    "# https://ipywidgets.readthedocs.io/en/latest/examples/Widget%20List.html\n",
    "import warnings\n",
    "\n",
    "import ipywidgets as widgets\n",
    "from ipywidgets import Button, Layout\n",
    "from IPython.display import display\n",
    "\n",
    "warnings.simplefilter(action='ignore', category=FutureWarning)\n",
    "\n",
    "lad = widgets.Textarea(value='https://docs.google.com/spreadsheets/d/1oUHkuKpHtuhMirNW6SvAQ4A0ns5PZs71iZ_WFXZHNn8/edit?gid=1199302294',placeholder='Plan Maestro LAD',description='Lineas Alta Demanda:',disabled=False,layout=Layout(width='70%',height=\"200px\"))\n",
    "lbd = widgets.Textarea(value='https://docs.google.com/spreadsheets/d/1yOaSeqRBr1FW6tvFMi_Y-s4011cKBoyiWU5dTMlujrU/edit?gid=1199302294',placeholder='Plan Maestro LAD',description='Lineas Baja Demanda:',disabled=False,layout=Layout(width='70%',height=\"200px\"))\n",
    "host = widgets.Text(value='192.168.100.50',placeholder='Host',description='Host:',disabled=False)\n",
    "basedatos = widgets.Text(value='simyo2',placeholder='BaseDatos',description='BaseDatos',disabled=False)\n",
    "usuario = widgets.Text(value='mantto',description='Usuario')\n",
    "password = widgets.Password(value='Sistemas0',description='Password')\n",
    "button1 = widgets.Button(description=\"Generar Archivo Excel\",button_style='success',layout=Layout(width='20%'))\n",
    "button2 = widgets.Button(description=\"Cargar en Base de datos\",button_style='danger',layout=Layout(width='20%'))\n",
    "output = widgets.Output()\n",
    "salida = widgets.Text(value=\"Salida.xlsx\",description=\"Nombre:\",disabled=False)\n",
    "accordion = widgets.Accordion(children=[ salida], titles=(['Archivo Salida']))\n",
    "accordion1 = widgets.Accordion(children=[ usuario,password,host,basedatos], titles=('Usuario','Password','Host','Base de Datos'))\n",
    "\n",
    "display(lad,lbd,host,usuario,password,accordion,button1, accordion1,button2,output)\n",
    "\n",
    "def on_button_clicked(b):    \n",
    "    #print(f\"Se hizo click: {usuario.value} \")\n",
    "    gs1.save_to_excel(\"output/Salida.xlsx\",valores=valores,regimen=regimen,filename=\"mix_plan.csv\")\n",
    "\n",
    "    with output:\n",
    "        print(\"Se Genera archivo excel Salida.xlsx\")\n",
    "\n",
    "button1.on_click(on_button_clicked)\n",
    "button2.on_click(lambda _: print(\"Boton 2 accionado\"))\n",
    "#https://ipywidgets.readthedocs.io/en/7.6.3/examples/Widget%20Styling.html"
   ]
  }
 ],
 "metadata": {
  "kernelspec": {
   "display_name": "base",
   "language": "python",
   "name": "python3"
  },
  "language_info": {
   "codemirror_mode": {
    "name": "ipython",
    "version": 3
   },
   "file_extension": ".py",
   "mimetype": "text/x-python",
   "name": "python",
   "nbconvert_exporter": "python",
   "pygments_lexer": "ipython3",
   "version": "3.11.9"
  }
 },
 "nbformat": 4,
 "nbformat_minor": 2
}
