{
 "cells": [
  {
   "cell_type": "code",
   "execution_count": 52,
   "metadata": {},
   "outputs": [],
   "source": [
    "import pandas as pd\n",
    "import mysql.connector\n",
    "\n",
    "# Cargar el archivo Excel limpio\n",
    "df = pd.read_excel('input/SALI AGOS.xlsx', skiprows=7)\n",
    "#df.columns = ['codigo_salida', 'fecha_salida', 'carnet_identidad', 'nombres_apellidos', \n",
    "#              'gerencia', 'departamento', 'descripcion_item', 'unidad', 'grupo', 'sub_grupo', \n",
    "#              'cantidad', 'precio_unitario', 'importe_calculado']\n",
    "df_raw = df.copy(deep=True)"
   ]
  },
  {
   "cell_type": "code",
   "execution_count": 53,
   "metadata": {},
   "outputs": [],
   "source": [
    "df_salida_clean = df.copy(deep=True)"
   ]
  },
  {
   "cell_type": "code",
   "execution_count": 54,
   "metadata": {},
   "outputs": [],
   "source": [
    "df['Ubicacion'] = df['Ubicacion'].astype(str)\n",
    "\n",
    "# Función para aplicar las actualizaciones similares a las consultas SQL que mencionas\n",
    "def update_ubicacion(df):\n",
    "    # Definir los patrones y sus reemplazos\n",
    "    updates = {\n",
    "        'LINEA ROJA': 'LINEA ROJA',\n",
    "        'LINEA NARANJA': 'LINEA NARANJA',\n",
    "        'LINEA AZUL': 'LINEA AZUL',\n",
    "        'LINEA CELESTE': 'LINEA CELESTE',\n",
    "        'LINEA BLANCA': 'LINEA BLANCA',\n",
    "        'LINEA CAFE': 'LINEA CAFE',\n",
    "        'LINEA PLATEADA': 'LINEA PLATEADA',\n",
    "        'LINEA MORADA': 'LINEA MORADA',\n",
    "        'LINEA VERDE': 'LINEA VERDE',\n",
    "        'LINEA AMARILLA': 'LINEA AMARILLA',\n",
    "        'TALLER DE REPARACIONES MAYORES': ['TALLER DE REPARACIONES MAYORES', 'TALLER DE REPARACIONES'],\n",
    "        'TELEFERICO TURISTICO VIRGEN DEL SOCAVON': 'TELEFERICO TURISTICO',\n",
    "        'OFICINAS ADMINISTRATIVAS': 'OFICINAS ADMINISTRATIVAS',\n",
    "        'TODAS': 'TODAS'\n",
    "    }\n",
    "    \n",
    "    # Aplicar las actualizaciones a cada patrón\n",
    "    for replacement, pattern in updates.items():\n",
    "        if isinstance(pattern, list):\n",
    "            # Si hay más de un patrón para la misma ubicación\n",
    "            for pat in pattern:\n",
    "                df['Ubicacion'] = df['Ubicacion'].apply(lambda x: replacement if pat in x else x)\n",
    "        else:\n",
    "            # Solo un patrón\n",
    "            df['Ubicacion'] = df['Ubicacion'].apply(lambda x: replacement if pattern in x else x)\n",
    "    \n",
    "    return df\n",
    "\n",
    "df = update_ubicacion(df)\n"
   ]
  },
  {
   "cell_type": "code",
   "execution_count": 56,
   "metadata": {},
   "outputs": [],
   "source": [
    "  # prompt: mostar solo estas columnas de df 'Código Salida', 'Fecha Salida' 'Nombres y Apellidos' 'Gerencia' 'Departamento', 'Cargo' 'Ubicacion',\n",
    "  #        'Partida Presupuestaria' 'Código Item','Unidad Medida', 'Grupo', 'Subgrupo', 'Cantidad' 'Precio Unitario IVA', 'Importe Calculado (Histórico) IVA' 'Partida Presupuestaria'\n",
    "\n",
    "  selected_columns = ['Código Salida', 'Fecha Salida', 'Nombres y Apellidos', 'Gerencia', 'Departamento', 'Cargo', 'Ubicacion',\n",
    "                    'Partida Presupuestaria', 'Código Item', 'Unidad Medida', 'Grupo', 'Subgrupo', 'Cantidad', 'Precio Unitario IVA',\n",
    "                    'Importe Calculado (Histórico) IVA','Código Proveedor','Fecha Salida', 'Partida Presupuestaria']\n",
    "\n",
    "  # Create a new DataFrame with only the selected columns\n",
    "  df_selected = df[selected_columns]\n",
    "\n",
    "\n",
    "  # Now df_selected contains only the columns you specified.\n",
    "  # You can then use df_selected for further processing or analysis. "
   ]
  },
  {
   "cell_type": "code",
   "execution_count": 57,
   "metadata": {},
   "outputs": [],
   "source": [
    "# Seleccionar las columnas relevantes del DataFrame original\n",
    "selected_columns = [\n",
    "    'Código Salida', 'Fecha Salida', 'Nombres y Apellidos', 'Gerencia', 'Departamento', 'Cargo', 'Ubicacion',\n",
    "    'Partida Presupuestaria', 'Código Item', 'Unidad Medida', 'Grupo', 'Subgrupo', 'Cantidad',\n",
    "    'Precio Unitario IVA', 'Importe Calculado (Histórico) IVA','Código Proveedor','Fecha Salida','Item','Partida Presupuestaria'\n",
    "]\n",
    "\n",
    "# Crear un nuevo DataFrame con las columnas seleccionadas\n",
    "df_selected = df[selected_columns]\n",
    "\n",
    "# Definir los nuevos nombres en el orden deseado\n",
    "new_column_names = [\n",
    "    'codigo_salida', 'fecha_salida', 'solicitante', 'gerencia', 'departamento', 'cargo', 'ubicacion',\n",
    "    'codigo_partida', 'codigo_item', 'unidad', 'grupo', 'sub_grupo', 'cantidad',\n",
    "    'precio_unitario', 'costo_historico','id_tdb','fecha','descripcion','partida_presupuestaria'\n",
    "]\n",
    "\n",
    "# Cambiar los nombres de las columnas\n",
    "df_selected.columns = new_column_names\n",
    "\n",
    "\n"
   ]
  },
  {
   "cell_type": "code",
   "execution_count": 58,
   "metadata": {},
   "outputs": [
    {
     "name": "stderr",
     "output_type": "stream",
     "text": [
      "C:\\Users\\Hp\\AppData\\Local\\Temp\\ipykernel_11936\\500016796.py:25: SettingWithCopyWarning: \n",
      "A value is trying to be set on a copy of a slice from a DataFrame.\n",
      "Try using .loc[row_indexer,col_indexer] = value instead\n",
      "\n",
      "See the caveats in the documentation: https://pandas.pydata.org/pandas-docs/stable/user_guide/indexing.html#returning-a-view-versus-a-copy\n",
      "  df_selected['fecha'] = pd.to_datetime(df_selected['fecha'], format='%d/%m/%Y').dt.strftime('%Y-%m-%d')\n"
     ]
    },
    {
     "name": "stdout",
     "output_type": "stream",
     "text": [
      "Columnas en df_selected: Index(['codigo_salida', 'fecha_salida', 'solicitante', 'gerencia',\n",
      "       'departamento', 'cargo', 'ubicacion', 'codigo_partida', 'codigo_item',\n",
      "       'unidad', 'grupo', 'sub_grupo', 'cantidad', 'precio_unitario',\n",
      "       'costo_historico', 'id_tdb', 'fecha', 'descripcion',\n",
      "       'partida_presupuestaria'],\n",
      "      dtype='object')\n",
      "Datos insertados exitosamente.\n"
     ]
    }
   ],
   "source": [
    "import pandas as pd\n",
    "import mysql.connector\n",
    "\n",
    "# Asegúrate de que `df_selected` esté correctamente definido antes de la conexión.\n",
    "\n",
    "# Configurar la conexión a la base de datos MySQL\n",
    "connection = mysql.connector.connect(\n",
    "    host='192.168.100.50',        # Cambia por tu host\n",
    "    user='mantto',                # Cambia por tu usuario\n",
    "    password='Sistemas0,',        # Cambia por tu contraseña\n",
    "    database='Catalogo'           # Cambia por tu base de datos\n",
    ")\n",
    "\n",
    "cursor = connection.cursor()\n",
    "\n",
    "# Consulta para insertar los datos en la tabla `salida_test`\n",
    "insert_query = \"\"\"\n",
    "INSERT INTO salida_test (codigo_salida, fecha_salida, solicitante, gerencia, departamento, cargo, \n",
    "                         ubicacion, codigo_partida, codigo_item, unidad, grupo, sub_grupo, \n",
    "                         cantidad, precio_unitario, costo_historico, id_tdb, fecha, descripcion, partida_presupuestaria) \n",
    "VALUES (%s, %s, %s, %s, %s, %s, %s, %s, %s, %s, %s, %s, %s, %s, %s, %s, %s , %s , %s)\n",
    "\"\"\"\n",
    "\n",
    "# Asegúrate de que las fechas estén en el formato correcto\n",
    "df_selected['fecha'] = pd.to_datetime(df_selected['fecha'], format='%d/%m/%Y').dt.strftime('%Y-%m-%d')\n",
    "\n",
    "# Imprimir columnas del DataFrame para verificar\n",
    "print(\"Columnas en df_selected:\", df_selected.columns)\n",
    "\n",
    "# Iterar sobre las filas del DataFrame seleccionado e insertar cada una en la base de datos\n",
    "for index, row in df_selected.iterrows():\n",
    "    cursor.execute(insert_query, (\n",
    "        row['codigo_salida'], row['fecha_salida'], row['solicitante'], row['gerencia'], \n",
    "        row['departamento'], row['cargo'], row['ubicacion'], row['codigo_partida'], \n",
    "        row['codigo_item'], row['unidad'], row['grupo'], row['sub_grupo'], \n",
    "        row['cantidad'], row['precio_unitario'], row['costo_historico'], row['id_tdb'], row['fecha'], row['descripcion'], row['partida_presupuestaria']\n",
    "    ))\n",
    "\n",
    "# Confirmar la transacción\n",
    "connection.commit()\n",
    "\n",
    "# Cerrar la conexión\n",
    "cursor.close()\n",
    "connection.close()\n",
    "\n",
    "print(\"Datos insertados exitosamente.\")\n"
   ]
  }
 ],
 "metadata": {
  "kernelspec": {
   "display_name": "Python 3",
   "language": "python",
   "name": "python3"
  },
  "language_info": {
   "codemirror_mode": {
    "name": "ipython",
    "version": 3
   },
   "file_extension": ".py",
   "mimetype": "text/x-python",
   "name": "python",
   "nbconvert_exporter": "python",
   "pygments_lexer": "ipython3",
   "version": "3.12.6"
  }
 },
 "nbformat": 4,
 "nbformat_minor": 2
}
